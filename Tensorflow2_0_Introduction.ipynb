{
  "nbformat": 4,
  "nbformat_minor": 0,
  "metadata": {
    "colab": {
      "name": "Tensorflow2.0 Introduction.ipynb",
      "provenance": []
    },
    "kernelspec": {
      "name": "python3",
      "display_name": "Python 3"
    }
  },
  "cells": [
    {
      "cell_type": "code",
      "metadata": {
        "id": "0GgprSJ-h2hj"
      },
      "source": [
        "import tensorflow as tf"
      ],
      "execution_count": null,
      "outputs": []
    },
    {
      "cell_type": "markdown",
      "metadata": {
        "id": "nrI0V0AkjkJd"
      },
      "source": [
        "TensorFlow 基本型態："
      ]
    },
    {
      "cell_type": "code",
      "metadata": {
        "colab": {
          "base_uri": "https://localhost:8080/"
        },
        "id": "er1XO7zwjfYQ",
        "outputId": "82df69e6-de8e-4ffa-f44f-90585f4047d7"
      },
      "source": [
        "# 產生一個常數\r\n",
        "tc = tf.constant(2)\r\n",
        "# 產生一個變數\r\n",
        "tv = tf.Variable(2)\r\n",
        "print(tc)\r\n",
        "print(tv)"
      ],
      "execution_count": null,
      "outputs": [
        {
          "output_type": "stream",
          "text": [
            "tf.Tensor(2, shape=(), dtype=int32)\n",
            "<tf.Variable 'Variable:0' shape=() dtype=int32, numpy=2>\n"
          ],
          "name": "stdout"
        }
      ]
    },
    {
      "cell_type": "markdown",
      "metadata": {
        "id": "ZdcKxAXUj7yx"
      },
      "source": [
        "零階張量，稱為標量"
      ]
    },
    {
      "cell_type": "code",
      "metadata": {
        "colab": {
          "base_uri": "https://localhost:8080/"
        },
        "id": "FBZG3WF5jyMR",
        "outputId": "b8422ab4-4f43-4cd5-c676-0a688f6100b4"
      },
      "source": [
        "import tensorflow as tf\r\n",
        "tc = tf.constant(6)\r\n",
        "print(tc)  # 顯示 Tensor(常數資訊，Shape=()表示標量，dtype=int32 表示整數)\r\n",
        "print(\"{} 階Tensor\".format(tc.ndim))  # 顯示 Tensor 的維度"
      ],
      "execution_count": null,
      "outputs": [
        {
          "output_type": "stream",
          "text": [
            "tf.Tensor(6, shape=(), dtype=int32)\n",
            "0 階Tensor\n"
          ],
          "name": "stdout"
        }
      ]
    },
    {
      "cell_type": "markdown",
      "metadata": {
        "id": "CuYvAHvWlFnI"
      },
      "source": [
        "一階張量，稱為向量"
      ]
    },
    {
      "cell_type": "code",
      "metadata": {
        "colab": {
          "base_uri": "https://localhost:8080/"
        },
        "id": "ND-xBsjskT7J",
        "outputId": "70927577-8936-4af0-c969-310d0dbea31f"
      },
      "source": [
        "tc = tf.constant([2, 3, 4, 5, 6, 7]) \r\n",
        "print(\"{} 階Tensor \".format(tc.ndim))    # 顯示 Tensor 的維度"
      ],
      "execution_count": null,
      "outputs": [
        {
          "output_type": "stream",
          "text": [
            "1 階Tensor \n"
          ],
          "name": "stdout"
        }
      ]
    },
    {
      "cell_type": "markdown",
      "metadata": {
        "id": "TUiAKcX5lMV8"
      },
      "source": [
        "二階張量，稱為矩陣"
      ]
    },
    {
      "cell_type": "code",
      "metadata": {
        "colab": {
          "base_uri": "https://localhost:8080/"
        },
        "id": "xyC2jmm6k889",
        "outputId": "222d5008-8f53-4fc4-96bb-b4c7f2759c96"
      },
      "source": [
        "tc = tf.constant([[2, 3, 4], [5, 6, 7]])\r\n",
        "print(\"{} 階Tensor \".format(tc.ndim))    # 顯示 Tensor 的維度"
      ],
      "execution_count": null,
      "outputs": [
        {
          "output_type": "stream",
          "text": [
            "2 階Tensor \n"
          ],
          "name": "stdout"
        }
      ]
    },
    {
      "cell_type": "markdown",
      "metadata": {
        "id": "c9SXWSfnmNOK"
      },
      "source": [
        "## **Eager Execution**\r\n",
        "\r\n",
        "TensorFlow 引入「Eager Execution」動態圖模式，這個模式在TensorFlow2.0為預設模式，不同與以往的靜態圖模式需要建立計算圖才能執行，Eager Execution模式一旦執行就會返回數值。\r\n"
      ]
    },
    {
      "cell_type": "markdown",
      "metadata": {
        "id": "t0wSfpxqn6VR"
      },
      "source": [
        "TensorFlow 基本運算："
      ]
    },
    {
      "cell_type": "code",
      "metadata": {
        "colab": {
          "base_uri": "https://localhost:8080/"
        },
        "id": "5KgrZ-z5lZsX",
        "outputId": "970c9b79-5eda-4cf9-c5db-4b9d92a5c003"
      },
      "source": [
        "import numpy as np\r\n",
        "import tensorflow as tf\r\n",
        "\r\n",
        "print(\"Eager Execution 是否啟動: {}\".format(tf.executing_eagerly()))"
      ],
      "execution_count": null,
      "outputs": [
        {
          "output_type": "stream",
          "text": [
            "Eager Execution 是否啟動: True\n"
          ],
          "name": "stdout"
        }
      ]
    },
    {
      "cell_type": "code",
      "metadata": {
        "colab": {
          "base_uri": "https://localhost:8080/"
        },
        "id": "mLL3Sx0FoDAp",
        "outputId": "24d9ac31-3220-4068-cd13-72cdb290d754"
      },
      "source": [
        "tc01 = tf.constant(5)\r\n",
        "tc02 = tf.constant(6)\r\n",
        "print(\"tc01 = {}\".format(tc01))\r\n",
        "print(\"tc02 = {}\".format(tc02))"
      ],
      "execution_count": null,
      "outputs": [
        {
          "output_type": "stream",
          "text": [
            "tc01 = 5\n",
            "tc02 = 6\n"
          ],
          "name": "stdout"
        }
      ]
    },
    {
      "cell_type": "markdown",
      "metadata": {
        "id": "j5jLCQv5oU_t"
      },
      "source": [
        "檢查資料型態"
      ]
    },
    {
      "cell_type": "code",
      "metadata": {
        "colab": {
          "base_uri": "https://localhost:8080/"
        },
        "id": "QX9S3Hf6oQ_o",
        "outputId": "1f48f2aa-d8b3-4584-b013-b54efe95ddd2"
      },
      "source": [
        "print(tc01)\r\n",
        "print(tc02)"
      ],
      "execution_count": null,
      "outputs": [
        {
          "output_type": "stream",
          "text": [
            "tf.Tensor(5, shape=(), dtype=int32)\n",
            "tf.Tensor(6, shape=(), dtype=int32)\n"
          ],
          "name": "stdout"
        }
      ]
    },
    {
      "cell_type": "markdown",
      "metadata": {
        "id": "A4bnPknEog7f"
      },
      "source": [
        "基本運算"
      ]
    },
    {
      "cell_type": "code",
      "metadata": {
        "colab": {
          "base_uri": "https://localhost:8080/"
        },
        "id": "0wf2pzvwobdL",
        "outputId": "0246cecb-c57c-4791-cf84-45ac14e0af95"
      },
      "source": [
        "tc03 = tc01 + tc02\r\n",
        "print(\"tc01 + tc02 = {}\".format(tc03))\r\n",
        "tc04 = tc01 * tc02\r\n",
        "print(\"tc01 * tc02 = {}\".format(tc04))\r\n",
        "tc05 = tc01 - tc02\r\n",
        "print(\"tc01 - tc02 = {}\".format(tc05))\r\n",
        "tc06 = tc01 / tc02\r\n",
        "print(\"tc01 / tc02 = {}\".format(tc06))"
      ],
      "execution_count": null,
      "outputs": [
        {
          "output_type": "stream",
          "text": [
            "tc01 + tc02 = 11\n",
            "tc01 * tc02 = 30\n",
            "tc01 - tc02 = -1\n",
            "tc01 / tc02 = 0.8333333333333334\n"
          ],
          "name": "stdout"
        }
      ]
    },
    {
      "cell_type": "markdown",
      "metadata": {
        "id": "nC8G7Y8dqkQc"
      },
      "source": [
        "2D Tensor 運算，在Eager Execution模式下可以混和 Tensor 和 Numpy 做運算"
      ]
    },
    {
      "cell_type": "code",
      "metadata": {
        "colab": {
          "base_uri": "https://localhost:8080/"
        },
        "id": "L1_Wdtlfo3hR",
        "outputId": "46c4d424-6d84-4888-def6-7c8a53954721"
      },
      "source": [
        "tc01 = tf.constant([[1., 2.], [3., 4.]], dtype=tf.float32)\r\n",
        "tc02 = np.array([[5., 6.], [7., 8.]], dtype=np.float32)\r\n",
        "print(\"tc01 constant: {}D Tensor\".format(tc01.ndim))\r\n",
        "print(\"tc02 constant: {}D Tensor\".format(tc02.ndim))\r\n",
        "\r\n",
        "tc03 = tc01 + tc02\r\n",
        "print(\"tc01 + tc02 = \\n{}\".format(tc03))\r\n",
        "tc04 = tf.matmul(tc01, tc02)\r\n",
        "print(\"tc01 * tc02 = \\n{}\".format(tc04))"
      ],
      "execution_count": null,
      "outputs": [
        {
          "output_type": "stream",
          "text": [
            "tc01 constant: 2D Tensor\n",
            "tc02 constant: 2D Tensor\n",
            "tc01 + tc02 = \n",
            "[[ 6.  8.]\n",
            " [10. 12.]]\n",
            "tc01 * tc02 = \n",
            "[[19. 22.]\n",
            " [43. 50.]]\n"
          ],
          "name": "stdout"
        }
      ]
    },
    {
      "cell_type": "markdown",
      "metadata": {
        "id": "GCesk8ROr91f"
      },
      "source": [
        "輸出結果為 Tensor 格式，可以將它轉為 Numpy 格式"
      ]
    },
    {
      "cell_type": "code",
      "metadata": {
        "colab": {
          "base_uri": "https://localhost:8080/"
        },
        "id": "9cgegRBIrhrS",
        "outputId": "a77c1dfb-b029-4d07-9756-1107a3992a03"
      },
      "source": [
        "print(tc03)\r\n",
        "print(\"NumpyArray:\\n {}\".format(tc03.numpy()))\r\n",
        "print(tc04)\r\n",
        "print(\"NumpyArray:\\n {}\".format(tc04.numpy()))"
      ],
      "execution_count": null,
      "outputs": [
        {
          "output_type": "stream",
          "text": [
            "tf.Tensor(\n",
            "[[ 6.  8.]\n",
            " [10. 12.]], shape=(2, 2), dtype=float32)\n",
            "NumpyArray:\n",
            " [[ 6.  8.]\n",
            " [10. 12.]]\n",
            "tf.Tensor(\n",
            "[[19. 22.]\n",
            " [43. 50.]], shape=(2, 2), dtype=float32)\n",
            "NumpyArray:\n",
            " [[19. 22.]\n",
            " [43. 50.]]\n"
          ],
          "name": "stdout"
        }
      ]
    },
    {
      "cell_type": "markdown",
      "metadata": {
        "id": "IojLmQ6HsSM4"
      },
      "source": [
        "計算梯度"
      ]
    },
    {
      "cell_type": "code",
      "metadata": {
        "colab": {
          "base_uri": "https://localhost:8080/"
        },
        "id": "iRJNtx_esKKt",
        "outputId": "c7f4deb7-c6c2-452d-87bb-ddf2c8b81a40"
      },
      "source": [
        "x = tf.Variable([[1.0]])\r\n",
        "with tf.GradientTape() as tape:\r\n",
        "    loss = x * x\r\n",
        "\r\n",
        "grad = tape.gradient(loss, x)\r\n",
        "print(grad)"
      ],
      "execution_count": null,
      "outputs": [
        {
          "output_type": "stream",
          "text": [
            "tf.Tensor([[2.]], shape=(1, 1), dtype=float32)\n"
          ],
          "name": "stdout"
        }
      ]
    },
    {
      "cell_type": "markdown",
      "metadata": {
        "id": "AKcnWwfis5k4"
      },
      "source": [
        "---\r\n",
        "## **Keras**\r\n",
        "\r\n",
        "TensorFlow2.0 將 Keras 納為內建高階API，因此不必再而外安裝keras套件，直接透過`tf.keras`指令使用。相較於`tf.keras`和`keras`的差別，`tf.keras`更能全面支援tensorflow 指令與模式，例如支援 Eager Exection, tf.data, TPU 訓練等等。"
      ]
    },
    {
      "cell_type": "code",
      "metadata": {
        "id": "Db2Koj4jsuOZ"
      },
      "source": [
        "import tensorflow as tf\r\n",
        "from tensorflow import keras\r\n",
        "from tensorflow.keras import layers\r\n",
        "from tensorflow.keras.utils import plot_model\r\n",
        "from IPython.display import Image"
      ],
      "execution_count": null,
      "outputs": []
    },
    {
      "cell_type": "markdown",
      "metadata": {
        "id": "fne4ssndtlfE"
      },
      "source": [
        "**## Sequential Model**\r\n",
        "\r\n",
        "Sequential Model 有兩種搭建方式，下面為分類問題範例：輸入為30x30 (拉平為900的一維向量)的影像，輸出為15 (分為十個類別)。"
      ]
    },
    {
      "cell_type": "markdown",
      "metadata": {
        "id": "lR_WWMpYvEyk"
      },
      "source": [
        "EX01:"
      ]
    },
    {
      "cell_type": "code",
      "metadata": {
        "id": "nwkMquhmtSg1"
      },
      "source": [
        "model = keras.Sequential(name='Sequential')\r\n",
        "model.add(layers.Dense(64, activation='relu', input_shape=(900,)))\r\n",
        "model.add(layers.Dense(64, activation='relu'))\r\n",
        "model.add(layers.Dense(15, activation='softmax'))"
      ],
      "execution_count": null,
      "outputs": []
    },
    {
      "cell_type": "markdown",
      "metadata": {
        "id": "5L97uKqFvQJn"
      },
      "source": [
        "EX02:"
      ]
    },
    {
      "cell_type": "code",
      "metadata": {
        "id": "NPj4rvJlvBG3"
      },
      "source": [
        "model = tf.keras.Sequential([layers.Dense(64, activation='relu', input_shape=(900,)),\r\n",
        "                layers.Dense(64, activation='relu'), \r\n",
        "                layers.Dense(15, activation='softmax')])"
      ],
      "execution_count": null,
      "outputs": []
    },
    {
      "cell_type": "markdown",
      "metadata": {
        "id": "seFrmiOYvwA7"
      },
      "source": [
        "顯示剛剛搭建網路"
      ]
    },
    {
      "cell_type": "code",
      "metadata": {
        "colab": {
          "base_uri": "https://localhost:8080/",
          "height": 369
        },
        "id": "otmiSw3Bvtcf",
        "outputId": "7c366469-0d74-40cd-b75b-50c86cc60182"
      },
      "source": [
        "# 產生網絡拓撲圖\r\n",
        "plot_model(model, to_file='Sequential Model.png')\r\n",
        "\r\n",
        "# 秀出網絡拓撲圖\r\n",
        "Image('Sequential Model.png')"
      ],
      "execution_count": null,
      "outputs": [
        {
          "output_type": "execute_result",
          "data": {
            "image/png": "[encoded data removed]",
            "text/plain": [
              "<IPython.core.display.Image object>"
            ]
          },
          "metadata": {
            "tags": []
          },
          "execution_count": 34
        }
      ]
    },
    {
      "cell_type": "markdown",
      "metadata": {
        "id": "P8DhZB5uwhQL"
      },
      "source": [
        "# **Functional API**\r\n"
      ]
    },
    {
      "cell_type": "markdown",
      "metadata": {
        "id": "FdynNW3sxT-t"
      },
      "source": [
        "1. Sample Network：使用 Functional API 一樣可以快速完成幾行代碼和上面 Sequential Model 相同架構。"
      ]
    },
    {
      "cell_type": "code",
      "metadata": {
        "colab": {
          "base_uri": "https://localhost:8080/",
          "height": 369
        },
        "id": "ZoU3LoPGwEFr",
        "outputId": "61408875-1abf-4d72-fd5a-55dc428cb4db"
      },
      "source": [
        "inputs = keras.Input(shape=(900,), name='Input')\r\n",
        "hidden1 = layers.Dense(64, activation='relu', name='hidden1')(inputs)\r\n",
        "hidden2 = layers.Dense(64, activation='relu', name='hidden2')(hidden1)\r\n",
        "outputs = layers.Dense(15, activation='softmax', name='Output')(hidden2)\r\n",
        "\r\n",
        "model = keras.Model(inputs=inputs, outputs=outputs)\r\n",
        "\r\n",
        "# 產生網絡拓撲圖\r\n",
        "plot_model(model, to_file='Functional API Sample Model.png')\r\n",
        "\r\n",
        "# 秀出網絡拓撲圖\r\n",
        "Image('Functional API Sample Model.png')"
      ],
      "execution_count": null,
      "outputs": [
        {
          "output_type": "execute_result",
          "data": {
            "image/png": "[encoded data removed]",
            "text/plain": [
              "<IPython.core.display.Image object>"
            ]
          },
          "metadata": {
            "tags": []
          },
          "execution_count": 35
        }
      ]
    },
    {
      "cell_type": "markdown",
      "metadata": {
        "id": "ZMY8F5_ayMVM"
      },
      "source": [
        "2. Multi Input Model：多輸入單輸出模型，網路架構如下。"
      ]
    },
    {
      "cell_type": "code",
      "metadata": {
        "colab": {
          "base_uri": "https://localhost:8080/",
          "height": 661
        },
        "id": "dqn1aV4Yxr5M",
        "outputId": "7634327e-b552-44cc-9d3d-06ebf9567c77"
      },
      "source": [
        "input_img = keras.Input(shape=(30, 30, 1), name='Input_Image')\r\n",
        "input_info = keras.Input(shape=(1, ), name='Inpu_Informationt')\r\n",
        "\r\n",
        "hidden1_1 = layers.Conv2D(64, kernel_size=5, strides=2, activation='relu', name='hidden01_01')(input_img)\r\n",
        "hidden1_2 = layers.Conv2D(32, kernel_size=5, strides=2, activation='relu', name='hidden01_02')(hidden1_1)\r\n",
        "hidden1_2_ft= layers.Flatten()(hidden1_2)\r\n",
        "hidden1_3 = layers.Dense(64, activation='relu', name='hidden01_03')(input_info)\r\n",
        "concat = layers.Concatenate()([hidden1_2_ft, hidden1_3])\r\n",
        "hidden2 = layers.Dense(64, activation='relu', name='hidden02')(concat)\r\n",
        "outputs = layers.Dense(1, name='Output')(hidden2)\r\n",
        "\r\n",
        "model = keras.Model(inputs=[input_img, input_info], outputs=outputs)\r\n",
        "\r\n",
        "# 產生網絡拓撲圖\r\n",
        "plot_model(model, to_file='Functional API Multi Input Model.png')\r\n",
        "\r\n",
        "# 秀出網絡拓撲圖\r\n",
        "Image('Functional API Multi Input Model.png')"
      ],
      "execution_count": null,
      "outputs": [
        {
          "output_type": "execute_result",
          "data": {
            "image/png": "[encoded data removed]",
            "text/plain": [
              "<IPython.core.display.Image object>"
            ]
          },
          "metadata": {
            "tags": []
          },
          "execution_count": 40
        }
      ]
    },
    {
      "cell_type": "markdown",
      "metadata": {
        "id": "3ohDgv8Gz09e"
      },
      "source": [
        "3. Multi Output Network：單輸入多輸出模型，這種類型的架構在影像處理的領域時常看到。\r\n",
        "\r\n",
        "\r\n",
        "\r\n",
        "*   物件偵測：輸入一張圖像，預測物件位置與物件類別等。\r\n",
        "*   人像識別：輸入一張圖像，預測圖片中人的性別、年齡等。\r\n",
        "\r\n",
        "\r\n"
      ]
    },
    {
      "cell_type": "code",
      "metadata": {
        "colab": {
          "base_uri": "https://localhost:8080/",
          "height": 564
        },
        "id": "VdCPvmiAzltf",
        "outputId": "d8b9705d-d613-4c2f-df09-d48ceef49459"
      },
      "source": [
        "input_imgs = keras.Input(shape=(30, 30, 1), name='Input_images')\r\n",
        "\r\n",
        "hidden1 = layers.Conv2D(64, kernel_size=3, activation='relu', name='hidden01')(input_imgs)\r\n",
        "hidden2 = layers.Conv2D(64, kernel_size=3, strides=2, activation='relu', name='hidden02')(hidden1)\r\n",
        "hidden3 = layers.Conv2D(64, kernel_size=3, strides=2, activation='relu', name='hidden03')(hidden2)\r\n",
        "flatten = layers.Flatten()(hidden3)\r\n",
        "\r\n",
        "output_ages = layers.Dense(1, name='Output_Ages')(flatten)\r\n",
        "output_genders = layers.Dense(1, name='Output_Genders')(flatten)\r\n",
        "\r\n",
        "model = keras.Model(inputs=input_imgs, outputs=[output_ages, output_genders])\r\n",
        "\r\n",
        "# 產生網絡拓撲圖\r\n",
        "plot_model(model, to_file='Functional API Multi Output Model.png')\r\n",
        "\r\n",
        "# 秀出網絡拓撲圖\r\n",
        "Image('Functional API Multi Output Model.png')"
      ],
      "execution_count": null,
      "outputs": [
        {
          "output_type": "execute_result",
          "data": {
            "image/png": "[encoded data removed]",
            "text/plain": [
              "<IPython.core.display.Image object>"
            ]
          },
          "metadata": {
            "tags": []
          },
          "execution_count": 42
        }
      ]
    },
    {
      "cell_type": "markdown",
      "metadata": {
        "id": "KwUNwWjK4dmI"
      },
      "source": [
        "4. Multi Input and Multi Output Network：多輸入多輸出模型。"
      ]
    },
    {
      "cell_type": "code",
      "metadata": {
        "colab": {
          "base_uri": "https://localhost:8080/",
          "height": 661
        },
        "id": "Ezbff7LU2eIb",
        "outputId": "86f0ce3b-9ad5-4bcf-bba9-aa70dfaaece0"
      },
      "source": [
        "inputs_imgs = keras.Input(shape=(30, 30, 1), name='Input_Images')\r\n",
        "hidden1 = layers.Conv2D(64, kernel_size=3, activation='relu', name='hidden01')(inputs_imgs)\r\n",
        "hidden2 = layers.Conv2D(64, kernel_size=3, strides=2, activation='relu', name='hidden02')(hidden1)\r\n",
        "hidden3 = layers.Conv2D(64, kernel_size=3, strides=2, activation='relu', name='hidden03')(hidden2)\r\n",
        "flatten = layers.Flatten()(hidden3)\r\n",
        "\r\n",
        "input_infos = keras.Input(shape=(10, ), name='Input_Informations')\r\n",
        "hidden4 = layers.Dense(64)(input_infos)\r\n",
        "\r\n",
        "concat = layers.Concatenate()([flatten, hidden4])\r\n",
        "\r\n",
        "output_weathers = layers.Dense(1, name='Output01')(concat)\r\n",
        "output_temps = layers.Dense(1, name='Output02')(concat)\r\n",
        "output_humidities = layers.Dense(1, name='Output03')(concat)\r\n",
        "\r\n",
        "model = keras.Model(inputs=[inputs_imgs, input_infos], \r\n",
        "                    outputs=[output_weathers, output_temps, output_humidities])\r\n",
        "\r\n",
        "# 產生網絡拓撲圖\r\n",
        "plot_model(model, to_file='Functional API Multi Input and Multi Output Model.png')\r\n",
        "\r\n",
        "# 秀出網絡拓撲圖\r\n",
        "Image('Functional API Multi Input and Multi Output Model.png')"
      ],
      "execution_count": null,
      "outputs": [
        {
          "output_type": "execute_result",
          "data": {
            "image/png": "[encoded data removed]",
            "text/plain": [
              "<IPython.core.display.Image object>"
            ]
          },
          "metadata": {
            "tags": []
          },
          "execution_count": 44
        }
      ]
    },
    {
      "cell_type": "markdown",
      "metadata": {
        "id": "HxE4YLTO5ZCR"
      },
      "source": [
        "## **tf.data**"
      ]
    },
    {
      "cell_type": "markdown",
      "metadata": {
        "id": "kthIYM3l5euW"
      },
      "source": [
        "基本操作"
      ]
    },
    {
      "cell_type": "markdown",
      "metadata": {
        "id": "4N5-kTdM5kdv"
      },
      "source": [
        "1. tf.data.Dataset.from_tensors:"
      ]
    },
    {
      "cell_type": "code",
      "metadata": {
        "colab": {
          "base_uri": "https://localhost:8080/"
        },
        "id": "Zs_sulyN6a2b",
        "outputId": "d7e1c2dc-7a33-4bd7-9903-1f94a681a50f"
      },
      "source": [
        "tfdataset = tf.data.Dataset.from_tensors(tf.constant([11, 12, 13, 14, 15, 16, 17, 18, 19, 20], shape=(10, )))\r\n",
        "print(tfdataset)tf.data.Dataset.range(10).map(lambda x: x*2)"
      ],
      "execution_count": null,
      "outputs": [
        {
          "output_type": "stream",
          "text": [
            "<TensorDataset shapes: (10,), types: tf.int32>\n"
          ],
          "name": "stdout"
        }
      ]
    },
    {
      "cell_type": "markdown",
      "metadata": {
        "id": "d3Dx3K-n6cGM"
      },
      "source": [
        "2. tf.data.Dataset.from_tensor_slices:"
      ]
    },
    {
      "cell_type": "code",
      "metadata": {
        "colab": {
          "base_uri": "https://localhost:8080/"
        },
        "id": "yNl7rXMd51dB",
        "outputId": "3ef23526-167a-4385-fb9c-468506b15751"
      },
      "source": [
        "x_tfdataset = tf.data.Dataset.from_tensor_slices(tf.constant([10, 11, 12, 13, 14, 15, 16, 17, 18, 19], shape=(10, )))\r\n",
        "print(x_tfdataset)\r\n",
        "\r\n",
        "y_tfdataset = tf.data.Dataset.from_tensor_slices(tf.constant([10, 12, 14, 16, 18, 20, 22, 24, 26, 28], shape=(10, )))\r\n",
        "print(y_tfdataset)"
      ],
      "execution_count": null,
      "outputs": [
        {
          "output_type": "stream",
          "text": [
            "<TensorSliceDataset shapes: (), types: tf.int32>\n",
            "<TensorSliceDataset shapes: (), types: tf.int32>\n"
          ],
          "name": "stdout"
        }
      ]
    },
    {
      "cell_type": "markdown",
      "metadata": {
        "id": "iCr736az6oJs"
      },
      "source": [
        "3. 用 for loop 讀取數據："
      ]
    },
    {
      "cell_type": "code",
      "metadata": {
        "colab": {
          "base_uri": "https://localhost:8080/"
        },
        "id": "uHuEZ3-p6SrG",
        "outputId": "353a460b-d451-4581-a722-9558380854ef"
      },
      "source": [
        "for data00 in tfdataset:\r\n",
        "    print(data00)"
      ],
      "execution_count": null,
      "outputs": [
        {
          "output_type": "stream",
          "text": [
            "tf.Tensor([11 12 13 14 15 16 17 18 19 20], shape=(10,), dtype=int32)\n"
          ],
          "name": "stdout"
        }
      ]
    },
    {
      "cell_type": "code",
      "metadata": {
        "colab": {
          "base_uri": "https://localhost:8080/"
        },
        "id": "YZRFm4H567No",
        "outputId": "ea1f50e1-f6ff-4395-cf45-12fbf2cb1b7b"
      },
      "source": [
        "for data01, data02 in zip(x_tfdataset, y_tfdataset):\r\n",
        "    print('x: {}, y: {}'.format(data01, data02))"
      ],
      "execution_count": null,
      "outputs": [
        {
          "output_type": "stream",
          "text": [
            "x: 10, y: 10\n",
            "x: 11, y: 12\n",
            "x: 12, y: 14\n",
            "x: 13, y: 16\n",
            "x: 14, y: 18\n",
            "x: 15, y: 20\n",
            "x: 16, y: 22\n",
            "x: 17, y: 24\n",
            "x: 18, y: 26\n",
            "x: 19, y: 28\n"
          ],
          "name": "stdout"
        }
      ]
    },
    {
      "cell_type": "markdown",
      "metadata": {
        "id": "AncHF8cC7WrZ"
      },
      "source": [
        "4. 用 take 讀取資料："
      ]
    },
    {
      "cell_type": "code",
      "metadata": {
        "colab": {
          "base_uri": "https://localhost:8080/"
        },
        "id": "uM-hXL0o7Leq",
        "outputId": "2523c039-f7da-4b22-f153-a330ec34f519"
      },
      "source": [
        "for data00 in tfdataset:\r\n",
        "    print(data00)"
      ],
      "execution_count": null,
      "outputs": [
        {
          "output_type": "stream",
          "text": [
            "tf.Tensor([11 12 13 14 15 16 17 18 19 20], shape=(10,), dtype=int32)\n"
          ],
          "name": "stdout"
        }
      ]
    },
    {
      "cell_type": "code",
      "metadata": {
        "colab": {
          "base_uri": "https://localhost:8080/"
        },
        "id": "WGt0lIMp7ota",
        "outputId": "55ec9a87-0530-4b54-ee96-3529f1c2f1a2"
      },
      "source": [
        "for data01, data02 in zip(x_tfdataset.take(6), y_tfdataset.take(6)):\r\n",
        "    print('x: {}, y: {}'.format(data01, data02))"
      ],
      "execution_count": null,
      "outputs": [
        {
          "output_type": "stream",
          "text": [
            "x: 10, y: 10\n",
            "x: 11, y: 12\n",
            "x: 12, y: 14\n",
            "x: 13, y: 16\n",
            "x: 14, y: 18\n",
            "x: 15, y: 20\n"
          ],
          "name": "stdout"
        }
      ]
    },
    {
      "cell_type": "code",
      "metadata": {
        "colab": {
          "base_uri": "https://localhost:8080/"
        },
        "id": "zZBLkojI8_GK",
        "outputId": "5ad31ccb-accd-44c1-af30-20b4e8e36a2c"
      },
      "source": [
        "for data01, data02 in zip(x_tfdataset.take(9), y_tfdataset.take(9)):\r\n",
        "    print('x: {}, y: {}'.format(data01, data02))"
      ],
      "execution_count": null,
      "outputs": [
        {
          "output_type": "stream",
          "text": [
            "x: 10, y: 10\n",
            "x: 11, y: 12\n",
            "x: 12, y: 14\n",
            "x: 13, y: 16\n",
            "x: 14, y: 18\n",
            "x: 15, y: 20\n",
            "x: 16, y: 22\n",
            "x: 17, y: 24\n",
            "x: 18, y: 26\n"
          ],
          "name": "stdout"
        }
      ]
    },
    {
      "cell_type": "markdown",
      "metadata": {
        "id": "OU4dhUk19lCL"
      },
      "source": [
        "5. tf.data.Dataset.zip:"
      ]
    },
    {
      "cell_type": "code",
      "metadata": {
        "colab": {
          "base_uri": "https://localhost:8080/"
        },
        "id": "EspheRu49W2D",
        "outputId": "70c4a32d-5f5f-46a3-e83a-463ebdf002c7"
      },
      "source": [
        "tfdataset = tf.data.Dataset.zip((x_tfdataset, y_tfdataset))\r\n",
        "print(tfdataset)"
      ],
      "execution_count": null,
      "outputs": [
        {
          "output_type": "stream",
          "text": [
            "<ZipDataset shapes: ((), ()), types: (tf.int32, tf.int32)>\n"
          ],
          "name": "stdout"
        }
      ]
    },
    {
      "cell_type": "markdown",
      "metadata": {
        "id": "4unNTKi8-Qkm"
      },
      "source": [
        "6. 可以使用 map 來轉換數據:\r\n"
      ]
    },
    {
      "cell_type": "code",
      "metadata": {
        "colab": {
          "base_uri": "https://localhost:8080/"
        },
        "id": "miWqGiqh-Eag",
        "outputId": "781ae0d9-f28e-4279-ac6e-3dff07e3e674"
      },
      "source": [
        "tf.data.Dataset.range(15).map(lambda tfx: tfx*2)"
      ],
      "execution_count": null,
      "outputs": [
        {
          "output_type": "execute_result",
          "data": {
            "text/plain": [
              "<MapDataset shapes: (), types: tf.int64>"
            ]
          },
          "metadata": {
            "tags": []
          },
          "execution_count": 54
        }
      ]
    },
    {
      "cell_type": "markdown",
      "metadata": {
        "id": "gBOb4gj-FEPE"
      },
      "source": [
        "7. 可以使用字典方式為 elements 組件命名:"
      ]
    },
    {
      "cell_type": "code",
      "metadata": {
        "colab": {
          "base_uri": "https://localhost:8080/"
        },
        "id": "7xMzeZPK-6x9",
        "outputId": "31dca67d-853e-46f5-d2d9-9fa98c99f147"
      },
      "source": [
        "tfx = tf.data.Dataset.range(15)\r\n",
        "tfy = tf.data.Dataset.range(15).map(lambda tfx: tfx*2)\r\n",
        "\r\n",
        "tfdataset = tf.data.Dataset.zip({\"tfx\": tfx, \"tfy\": tfy})\r\n",
        "print(tfdataset)"
      ],
      "execution_count": null,
      "outputs": [
        {
          "output_type": "stream",
          "text": [
            "<ZipDataset shapes: {tfx: (), tfy: ()}, types: {tfx: tf.int64, tfy: tf.int64}>\n"
          ],
          "name": "stdout"
        }
      ]
    },
    {
      "cell_type": "code",
      "metadata": {
        "colab": {
          "base_uri": "https://localhost:8080/"
        },
        "id": "gjuy2sV0_LHT",
        "outputId": "bbf73e1f-54dd-4407-d9f3-8bc0b3bcc847"
      },
      "source": [
        "for tfdata in tfdataset.take(15):\r\n",
        "    print('tfx: {}, tfy: {}'.format(tfdata['tfx'], tfdata['tfy']))"
      ],
      "execution_count": null,
      "outputs": [
        {
          "output_type": "stream",
          "text": [
            "tfx: 0, tfy: 0\n",
            "tfx: 1, tfy: 2\n",
            "tfx: 2, tfy: 4\n",
            "tfx: 3, tfy: 6\n",
            "tfx: 4, tfy: 8\n",
            "tfx: 5, tfy: 10\n",
            "tfx: 6, tfy: 12\n",
            "tfx: 7, tfy: 14\n",
            "tfx: 8, tfy: 16\n",
            "tfx: 9, tfy: 18\n",
            "tfx: 10, tfy: 20\n",
            "tfx: 11, tfy: 22\n",
            "tfx: 12, tfy: 24\n",
            "tfx: 13, tfy: 26\n",
            "tfx: 14, tfy: 28\n"
          ],
          "name": "stdout"
        }
      ]
    },
    {
      "cell_type": "markdown",
      "metadata": {
        "id": "Cmrf7ndk_2Fh"
      },
      "source": [
        "8. 設定batch，讀取數量"
      ]
    },
    {
      "cell_type": "code",
      "metadata": {
        "colab": {
          "base_uri": "https://localhost:8080/"
        },
        "id": "dwc1Fdr8_bpm",
        "outputId": "eb207495-89b6-4573-d67b-e4a6bac793c5"
      },
      "source": [
        "tfdataset = tf.data.Dataset.zip({\"tfx\": tfx, \"tfy\": tfy}).batch(3)\r\n",
        "\r\n",
        "for tfdata in tfdataset.take(4):\r\n",
        "    print('tfx: {}, tfy: {}'.format(tfdata['tfx'], tfdata['tfy']))"
      ],
      "execution_count": null,
      "outputs": [
        {
          "output_type": "stream",
          "text": [
            "tfx: [0 1 2], tfy: [0 2 4]\n",
            "tfx: [3 4 5], tfy: [ 6  8 10]\n",
            "tfx: [6 7 8], tfy: [12 14 16]\n",
            "tfx: [ 9 10 11], tfy: [18 20 22]\n"
          ],
          "name": "stdout"
        }
      ]
    },
    {
      "cell_type": "code",
      "metadata": {
        "id": "ntzlWtHUDsG1"
      },
      "source": [
        ""
      ],
      "execution_count": null,
      "outputs": []
    }
  ]
}